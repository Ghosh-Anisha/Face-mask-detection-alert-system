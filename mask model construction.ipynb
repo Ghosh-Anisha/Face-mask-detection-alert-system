{
 "cells": [
  {
   "cell_type": "code",
   "execution_count": 1,
   "metadata": {},
   "outputs": [],
   "source": [
    "import cv2,os\n",
    "import numpy as np\n",
    "from keras.utils import np_utils\n",
    "from keras.models import Sequential\n",
    "from keras.layers import  Dense, Activation, Dropout, Conv2D, Flatten, MaxPooling2D\n",
    "from keras.callbacks import ModelCheckpoint\n",
    "from sklearn.model_selection import train_test_split\n",
    "from matplotlib import pyplot as plt\n",
    "from keras.models import load_model"
   ]
  },
  {
   "cell_type": "code",
   "execution_count": 2,
   "metadata": {},
   "outputs": [
    {
     "name": "stdout",
     "output_type": "stream",
     "text": [
      "{'without_mask': 0, 'with_mask': 1}\n",
      "['without_mask', 'with_mask']\n",
      "[0, 1]\n"
     ]
    }
   ],
   "source": [
    "#https://github.com/Ghosh-Anisha/Face-mask-dataset - link to dataset\n",
    "data_path = '\\experiements\\data'\n",
    "categories = os.listdir(data_path)\n",
    "labels = [i for i in range(len(categories))]\n",
    "label_dict = dict(zip(categories,labels))\n",
    "print(label_dict)\n",
    "print(categories)\n",
    "print(labels)"
   ]
  },
  {
   "cell_type": "code",
   "execution_count": 3,
   "metadata": {},
   "outputs": [],
   "source": [
    "img_size = 150\n",
    "data = []\n",
    "target = []\n",
    "for category in categories:\n",
    "    folder_path = os.path.join(data_path,category) \n",
    "    img_names = os.listdir(folder_path)\n",
    "    \n",
    "    for img_name in img_names:\n",
    "        img_path = os.path.join(folder_path,img_name)\n",
    "        img = cv2.imread(img_path)\n",
    "        try:\n",
    "            gray = cv2.cvtColor(img,cv2.COLOR_BGR2GRAY)\n",
    "            resized = cv2.resize(gray,(img_size,img_size))\n",
    "            data.append(resized)\n",
    "            target.append(label_dict[category])\n",
    "        \n",
    "        except Exception as e:\n",
    "            print(\"Exception: \",e)"
   ]
  },
  {
   "cell_type": "code",
   "execution_count": 4,
   "metadata": {},
   "outputs": [],
   "source": [
    "data = np.array(data)/255.0  #data values are normalized\n",
    "#reshaping of data                                                \n",
    "data = np.reshape(data,(data.shape[0],img_size,img_size,1))\n",
    "target = np.array(target)\n",
    "new_target = np_utils.to_categorical(target)\n",
    "#saving the files                                \n",
    "np.save('data',data)\n",
    "np.save('target',new_target)"
   ]
  },
  {
   "cell_type": "code",
   "execution_count": 5,
   "metadata": {},
   "outputs": [
    {
     "name": "stdout",
     "output_type": "stream",
     "text": [
      "Model: \"sequential\"\n",
      "_________________________________________________________________\n",
      "Layer (type)                 Output Shape              Param #   \n",
      "=================================================================\n",
      "conv2d (Conv2D)              (None, 147, 147, 200)     3400      \n",
      "_________________________________________________________________\n",
      "activation (Activation)      (None, 147, 147, 200)     0         \n",
      "_________________________________________________________________\n",
      "max_pooling2d (MaxPooling2D) (None, 49, 49, 200)       0         \n",
      "_________________________________________________________________\n",
      "conv2d_1 (Conv2D)            (None, 46, 46, 100)       320100    \n",
      "_________________________________________________________________\n",
      "activation_1 (Activation)    (None, 46, 46, 100)       0         \n",
      "_________________________________________________________________\n",
      "max_pooling2d_1 (MaxPooling2 (None, 15, 15, 100)       0         \n",
      "_________________________________________________________________\n",
      "flatten (Flatten)            (None, 22500)             0         \n",
      "_________________________________________________________________\n",
      "dropout (Dropout)            (None, 22500)             0         \n",
      "_________________________________________________________________\n",
      "dense (Dense)                (None, 50)                1125050   \n",
      "_________________________________________________________________\n",
      "dense_1 (Dense)              (None, 2)                 102       \n",
      "=================================================================\n",
      "Total params: 1,448,652\n",
      "Trainable params: 1,448,652\n",
      "Non-trainable params: 0\n",
      "_________________________________________________________________\n"
     ]
    }
   ],
   "source": [
    "data = np.load('data.npy')\n",
    "target = np.load('target.npy')\n",
    "model = Sequential()\n",
    "model.add(Conv2D(200,(4,4),input_shape=data.shape[1:]))\n",
    "model.add(Activation('relu'))\n",
    "model.add(MaxPooling2D(pool_size=(3,3)))\n",
    "model.add(Conv2D(100,(4,4)))\n",
    "model.add(Activation('relu'))\n",
    "model.add(MaxPooling2D(pool_size=(3,3)))\n",
    "model.add(Flatten())\n",
    "model.add(Dropout(0.5))\n",
    "model.add(Dense(50,activation='relu'))\n",
    "model.add(Dense(2,activation='softmax'))\n",
    "model.compile(optimizer='adam', loss='categorical_crossentropy', metrics = ['acc'])\n",
    "model.summary()"
   ]
  },
  {
   "cell_type": "code",
   "execution_count": 6,
   "metadata": {},
   "outputs": [],
   "source": [
    "train_data, test_data, train_target, test_target = train_test_split(data, target, test_size=0.2)"
   ]
  },
  {
   "cell_type": "code",
   "execution_count": 7,
   "metadata": {},
   "outputs": [
    {
     "name": "stdout",
     "output_type": "stream",
     "text": [
      "Epoch 1/20\n",
      "34/34 [==============================] - ETA: 0s - loss: 0.6919 - acc: 0.5754WARNING:tensorflow:From C:\\Users\\anish\\anaconda3\\lib\\site-packages\\tensorflow\\python\\training\\tracking\\tracking.py:111: Model.state_updates (from tensorflow.python.keras.engine.training) is deprecated and will be removed in a future version.\n",
      "Instructions for updating:\n",
      "This property should not be used in TensorFlow 2.0, as updates are applied automatically.\n",
      "WARNING:tensorflow:From C:\\Users\\anish\\anaconda3\\lib\\site-packages\\tensorflow\\python\\training\\tracking\\tracking.py:111: Layer.updates (from tensorflow.python.keras.engine.base_layer) is deprecated and will be removed in a future version.\n",
      "Instructions for updating:\n",
      "This property should not be used in TensorFlow 2.0, as updates are applied automatically.\n",
      "INFO:tensorflow:Assets written to: model-001.model\\assets\n",
      "34/34 [==============================] - 63s 2s/step - loss: 0.6919 - acc: 0.5754 - val_loss: 0.6528 - val_acc: 0.5993\n",
      "Epoch 2/20\n",
      "34/34 [==============================] - ETA: 0s - loss: 0.5848 - acc: 0.6801INFO:tensorflow:Assets written to: model-002.model\\assets\n",
      "34/34 [==============================] - 58s 2s/step - loss: 0.5848 - acc: 0.6801 - val_loss: 0.4816 - val_acc: 0.7757\n",
      "Epoch 3/20\n",
      "34/34 [==============================] - ETA: 0s - loss: 0.3932 - acc: 0.8208INFO:tensorflow:Assets written to: model-003.model\\assets\n",
      "34/34 [==============================] - 58s 2s/step - loss: 0.3932 - acc: 0.8208 - val_loss: 0.3112 - val_acc: 0.8676\n",
      "Epoch 4/20\n",
      "34/34 [==============================] - 58s 2s/step - loss: 0.2733 - acc: 0.8851 - val_loss: 0.3199 - val_acc: 0.8750\n",
      "Epoch 5/20\n",
      "34/34 [==============================] - ETA: 0s - loss: 0.2005 - acc: 0.9228INFO:tensorflow:Assets written to: model-005.model\\assets\n",
      "34/34 [==============================] - 60s 2s/step - loss: 0.2005 - acc: 0.9228 - val_loss: 0.2431 - val_acc: 0.8934\n",
      "Epoch 6/20\n",
      "34/34 [==============================] - 57s 2s/step - loss: 0.1714 - acc: 0.9301 - val_loss: 0.2522 - val_acc: 0.9191\n",
      "Epoch 7/20\n",
      "34/34 [==============================] - 56s 2s/step - loss: 0.1994 - acc: 0.9182 - val_loss: 0.2782 - val_acc: 0.8971\n",
      "Epoch 8/20\n",
      "34/34 [==============================] - ETA: 0s - loss: 0.1339 - acc: 0.9494INFO:tensorflow:Assets written to: model-008.model\\assets\n",
      "34/34 [==============================] - 59s 2s/step - loss: 0.1339 - acc: 0.9494 - val_loss: 0.2225 - val_acc: 0.9449\n",
      "Epoch 9/20\n",
      "34/34 [==============================] - 57s 2s/step - loss: 0.1027 - acc: 0.9642 - val_loss: 0.3462 - val_acc: 0.8824\n",
      "Epoch 10/20\n",
      "34/34 [==============================] - 56s 2s/step - loss: 0.1282 - acc: 0.9531 - val_loss: 0.2327 - val_acc: 0.9338\n",
      "Epoch 11/20\n",
      "34/34 [==============================] - 56s 2s/step - loss: 0.0962 - acc: 0.9669 - val_loss: 0.2840 - val_acc: 0.9081\n",
      "Epoch 12/20\n",
      "34/34 [==============================] - 58s 2s/step - loss: 0.1019 - acc: 0.9651 - val_loss: 0.2375 - val_acc: 0.9375\n",
      "Epoch 13/20\n",
      "34/34 [==============================] - 56s 2s/step - loss: 0.0921 - acc: 0.9706 - val_loss: 0.2226 - val_acc: 0.9301\n",
      "Epoch 14/20\n",
      "34/34 [==============================] - 56s 2s/step - loss: 0.0807 - acc: 0.9761 - val_loss: 0.2778 - val_acc: 0.9228\n",
      "Epoch 15/20\n",
      "34/34 [==============================] - 56s 2s/step - loss: 0.0677 - acc: 0.9743 - val_loss: 0.2632 - val_acc: 0.9338\n",
      "Epoch 16/20\n",
      "34/34 [==============================] - 56s 2s/step - loss: 0.0493 - acc: 0.9825 - val_loss: 0.2244 - val_acc: 0.9375\n",
      "Epoch 17/20\n",
      "34/34 [==============================] - 58s 2s/step - loss: 0.0628 - acc: 0.9733 - val_loss: 0.2293 - val_acc: 0.9412\n",
      "Epoch 18/20\n",
      "34/34 [==============================] - 55s 2s/step - loss: 0.0496 - acc: 0.9825 - val_loss: 0.2443 - val_acc: 0.9449\n",
      "Epoch 19/20\n",
      "34/34 [==============================] - 55s 2s/step - loss: 0.0384 - acc: 0.9835 - val_loss: 0.2354 - val_acc: 0.9375\n",
      "Epoch 20/20\n",
      "34/34 [==============================] - 56s 2s/step - loss: 0.0353 - acc: 0.9871 - val_loss: 0.2590 - val_acc: 0.9485\n"
     ]
    }
   ],
   "source": [
    "checkpoint=ModelCheckpoint('model-{epoch:03d}.model', monitor='val_loss', verbose = 0, save_best_only = True,mode='auto')\n",
    "history = model.fit(train_data,train_target,epochs = 20, callbacks = [checkpoint], validation_split = 0.2)"
   ]
  },
  {
   "cell_type": "code",
   "execution_count": 8,
   "metadata": {},
   "outputs": [
    {
     "data": {
      "image/png": "[encoded data removed]",
      "text/plain": [
       "<Figure size 432x288 with 1 Axes>"
      ]
     },
     "metadata": {
      "needs_background": "light"
     },
     "output_type": "display_data"
    },
    {
     "data": {
      "image/png": "[encoded data removed]",
      "text/plain": [
       "<Figure size 432x288 with 1 Axes>"
      ]
     },
     "metadata": {
      "needs_background": "light"
     },
     "output_type": "display_data"
    }
   ],
   "source": [
    "plt.plot(history.history['acc'],'r',label='training accuracy')\n",
    "plt.plot(history.history['val_acc'],'b',label='validation accuracy')\n",
    "plt.xlabel('epochs')\n",
    "plt.ylabel('accuracy')\n",
    "plt.legend()\n",
    "plt.show()\n",
    "plt.plot(history.history['loss'],'r',label='training loss')\n",
    "plt.plot(history.history['val_loss'],'b',label='validation loss')\n",
    "plt.xlabel('epochs')\n",
    "plt.ylabel('loss')\n",
    "plt.legend()\n",
    "plt.show()"
   ]
  },
  {
   "cell_type": "code",
   "execution_count": 9,
   "metadata": {},
   "outputs": [
    {
     "name": "stdout",
     "output_type": "stream",
     "text": [
      "11/11 [==============================] - 4s 381ms/step - loss: 0.2137 - acc: 0.9294\n",
      "[0.2137349247932434, 0.929411768913269]\n"
     ]
    }
   ],
   "source": [
    "print(model.evaluate(test_data,test_target))"
   ]
  },
  {
   "cell_type": "code",
   "execution_count": 14,
   "metadata": {},
   "outputs": [
    {
     "name": "stdout",
     "output_type": "stream",
     "text": [
      "mask is present\n"
     ]
    }
   ],
   "source": [
    "img_test='/Downloads/test1.jpg'\n",
    "img1 = cv2.imread(img_test)\n",
    "gray1 = cv2.cvtColor(img1,cv2.COLOR_BGR2GRAY)\n",
    "resize = cv2.resize(gray1,(img_size,img_size))\n",
    "data1 = np.array(resize)/255.0  #data values are normalized\n",
    "#reshaping of data                                                \n",
    "data1 = np.reshape(data1,(1,150,150,1))\n",
    "\n",
    "yhat = model.predict(data1, verbose=0)\n",
    "label = np.argmax(yhat,axis=1)[0]\n",
    "if (label):\n",
    "    print(\"mask is present\")\n",
    "else:\n",
    "    print(\"no mask\")"
   ]
  },
  {
   "cell_type": "code",
   "execution_count": 10,
   "metadata": {},
   "outputs": [],
   "source": [
    "from keras.models import Model"
   ]
  },
  {
   "cell_type": "code",
   "execution_count": 11,
   "metadata": {},
   "outputs": [],
   "source": [
    "model.save(\"model_new.h5\")"
   ]
  },
  {
   "cell_type": "code",
   "execution_count": null,
   "metadata": {},
   "outputs": [],
   "source": []
  }
 ],
 "metadata": {
  "kernelspec": {
   "display_name": "Python 3",
   "language": "python",
   "name": "python3"
  },
  "language_info": {
   "codemirror_mode": {
    "name": "ipython",
    "version": 3
   },
   "file_extension": ".py",
   "mimetype": "text/x-python",
   "name": "python",
   "nbconvert_exporter": "python",
   "pygments_lexer": "ipython3",
   "version": "3.8.3"
  }
 },
 "nbformat": 4,
 "nbformat_minor": 4
}
